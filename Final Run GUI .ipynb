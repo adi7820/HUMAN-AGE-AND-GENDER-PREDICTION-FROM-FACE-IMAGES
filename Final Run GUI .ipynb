{
 "cells": [
  {
   "cell_type": "code",
   "execution_count": 1,
   "id": "c5a9d049",
   "metadata": {},
   "outputs": [],
   "source": [
    "import tkinter as tk\n",
    "from PIL import ImageTk, Image\n",
    "from tkinter import filedialog\n",
    "import numpy as np\n",
    "import tensorflow\n",
    "import math"
   ]
  },
  {
   "cell_type": "code",
   "execution_count": 2,
   "id": "a712f93e",
   "metadata": {},
   "outputs": [],
   "source": [
    "from keras.models import load_model"
   ]
  },
  {
   "cell_type": "code",
   "execution_count": 3,
   "id": "bbf57af7",
   "metadata": {},
   "outputs": [],
   "source": [
    "gen_model_swish = load_model('gendmodel_swish.h5')"
   ]
  },
  {
   "cell_type": "code",
   "execution_count": 4,
   "id": "a4b72580",
   "metadata": {},
   "outputs": [],
   "source": [
    "age_model_swish = load_model('agemodel_swish.h5')"
   ]
  },
  {
   "cell_type": "code",
   "execution_count": 5,
   "id": "2ddca0af",
   "metadata": {},
   "outputs": [],
   "source": [
    "gen_model_relu = load_model('genmodel_relu.h5')"
   ]
  },
  {
   "cell_type": "code",
   "execution_count": 6,
   "id": "b9549c65",
   "metadata": {},
   "outputs": [],
   "source": [
    "age_model_relu = load_model('agemodel_relu.h5')"
   ]
  },
  {
   "cell_type": "code",
   "execution_count": 7,
   "id": "d0a0cac1",
   "metadata": {},
   "outputs": [],
   "source": [
    "def load_img():\n",
    "    global img, image_data\n",
    "    for img_display in frame.winfo_children():\n",
    "        img_display.destroy()\n",
    "\n",
    "    image_data = filedialog.askopenfilename(initialdir=\"/\", title=\"Choose an image\",\n",
    "                                       filetypes=((\"all files\", \"*.*\"), (\"png files\", \"*.png\")))\n",
    "    basewidth = 150 # Processing image for displaying\n",
    "    img = Image.open(image_data)\n",
    "    wpercent = (basewidth / float(img.size[0]))\n",
    "    hsize = int((float(img.size[1]) * float(wpercent)))\n",
    "    img = img.resize((basewidth, hsize), Image.ANTIALIAS)\n",
    "    img = ImageTk.PhotoImage(img)\n",
    "    file_name = image_data.split('/')\n",
    "    panel = tk.Label(frame, text=str(file_name[len(file_name)-1]).upper()).pack()\n",
    "    panel_image = tk.Label(frame, image=img).pack()"
   ]
  },
  {
   "cell_type": "code",
   "execution_count": 8,
   "id": "b7466ca6",
   "metadata": {},
   "outputs": [],
   "source": [
    "gen_class = {0:'Male',1:'Female'}"
   ]
  },
  {
   "cell_type": "code",
   "execution_count": 9,
   "id": "a8b3f825",
   "metadata": {},
   "outputs": [],
   "source": [
    "def classify_swish():\n",
    "    original = Image.open(image_data)\n",
    "    original = original.resize((200, 200), Image.ANTIALIAS)\n",
    "    numpy_image = np.array(original)\n",
    "    image_batch = np.expand_dims(numpy_image, axis=0)\n",
    "    \n",
    "    image_batch = image_batch/255\n",
    "    image_batch = image_batch.reshape(-1,200,200,3)\n",
    "    gender = gen_model_swish.predict(image_batch)\n",
    "    \n",
    "    if gender[0][0] < 0.009:\n",
    "        sign = 'Male'\n",
    "    else:\n",
    "        sign = 'Female'\n",
    "    \n",
    "    #sign = round(gender[0][0])\n",
    "    age = age_model_swish.predict(image_batch)\n",
    "    sign2 = math.floor(age)\n",
    "    \n",
    "    #table = tk.Label(frame, text=\"Top image class predictions and confidences\").pack()\n",
    "    result = tk.Label(frame,text= 'Gender: '+ str(sign)).pack()\n",
    "    result = tk.Label(frame,text= 'Age: '+ str(sign2)).pack()"
   ]
  },
  {
   "cell_type": "code",
   "execution_count": 10,
   "id": "b90f1ccb",
   "metadata": {},
   "outputs": [],
   "source": [
    "def classify_relu():\n",
    "    original = Image.open(image_data)\n",
    "    original = original.resize((200, 200), Image.ANTIALIAS)\n",
    "    numpy_image = np.array(original)\n",
    "    image_batch = np.expand_dims(numpy_image, axis=0)\n",
    "    \n",
    "    image_batch = image_batch/255\n",
    "    image_batch = image_batch.reshape(-1,200,200,3)\n",
    "    gender = gen_model_relu.predict(image_batch)\n",
    "    \n",
    "    if gender[0][0] < 0.009:\n",
    "        sign = 'Male'\n",
    "    else:\n",
    "        sign = 'Female'\n",
    "    \n",
    "    #sign = round(gender[0][0])\n",
    "    age = age_model_relu.predict(image_batch)\n",
    "    sign2 = math.floor(age)\n",
    "    \n",
    "    #table = tk.Label(frame, text=\"Top image class predictions and confidences\").pack()\n",
    "    result = tk.Label(frame,text= 'Gender: '+ str(sign)).pack()\n",
    "    result = tk.Label(frame,text= 'Age: '+ str(sign2)).pack()"
   ]
  },
  {
   "cell_type": "code",
   "execution_count": null,
   "id": "86c64648",
   "metadata": {},
   "outputs": [
    {
     "name": "stderr",
     "output_type": "stream",
     "text": [
      "Exception in Tkinter callback\n",
      "Traceback (most recent call last):\n",
      "  File \"C:\\Users\\adity\\anaconda3\\lib\\site-packages\\PIL\\Image.py\", line 2979, in open\n",
      "    fp.seek(0)\n",
      "AttributeError: 'str' object has no attribute 'seek'\n",
      "\n",
      "During handling of the above exception, another exception occurred:\n",
      "\n",
      "Traceback (most recent call last):\n",
      "  File \"C:\\Users\\adity\\anaconda3\\lib\\tkinter\\__init__.py\", line 1892, in __call__\n",
      "    return self.func(*args)\n",
      "  File \"C:\\Users\\adity\\AppData\\Local\\Temp/ipykernel_12500/1483730425.py\", line 9, in load_img\n",
      "    img = Image.open(image_data)\n",
      "  File \"C:\\Users\\adity\\anaconda3\\lib\\site-packages\\PIL\\Image.py\", line 2981, in open\n",
      "    fp = io.BytesIO(fp.read())\n",
      "AttributeError: 'str' object has no attribute 'read'\n"
     ]
    }
   ],
   "source": [
    "root = tk.Tk()\n",
    "root.title('Age Gender Prediction')\n",
    "\n",
    "root.resizable(False, False)\n",
    "\n",
    "tit = tk.Label(root, text=\"Age & Gender Prediction\", padx=25, pady=6, font=(\"\", 12)).pack()\n",
    "canvas = tk.Canvas(root, height=500, width=500, bg='grey')\n",
    "canvas.pack()\n",
    "frame = tk.Frame(root, bg='white')\n",
    "frame.place(relwidth=0.8, relheight=0.8, relx=0.1, rely=0.1)\n",
    "chose_image = tk.Button(root, text='Choose Image',padx=35, pady=10,fg=\"white\", bg=\"grey\", command=load_img)\n",
    "chose_image.pack(side=tk.LEFT)\n",
    "class_image = tk.Button(root, text='Classify Image with ReLU',padx=35, pady=10,fg=\"white\", bg=\"grey\", command=classify_relu)\n",
    "class_image.pack(side=tk.RIGHT)\n",
    "class_image = tk.Button(root, text='Classify Image with SWISH',padx=35, pady=10,fg=\"white\", bg=\"grey\", command=classify_swish)\n",
    "class_image.pack(side=tk.RIGHT)\n",
    "\n",
    "\n",
    "root.mainloop()"
   ]
  },
  {
   "cell_type": "code",
   "execution_count": null,
   "id": "7dc76a53",
   "metadata": {},
   "outputs": [],
   "source": []
  }
 ],
 "metadata": {
  "kernelspec": {
   "display_name": "Python 3 (ipykernel)",
   "language": "python",
   "name": "python3"
  },
  "language_info": {
   "codemirror_mode": {
    "name": "ipython",
    "version": 3
   },
   "file_extension": ".py",
   "mimetype": "text/x-python",
   "name": "python",
   "nbconvert_exporter": "python",
   "pygments_lexer": "ipython3",
   "version": "3.9.7"
  }
 },
 "nbformat": 4,
 "nbformat_minor": 5
}
